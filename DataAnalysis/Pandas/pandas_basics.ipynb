{
 "cells": [
  {
   "cell_type": "code",
   "execution_count": 2,
   "id": "79610b9a-ef33-4d17-8f46-df082fef91b8",
   "metadata": {},
   "outputs": [],
   "source": [
    "import pandas as pd \n",
    "import numpy as np\n",
    "import os \n",
    "import sqlite3 as sq\n",
    "import matplotlib.pyplot as plt"
   ]
  },
  {
   "cell_type": "markdown",
   "id": "370a2e8f",
   "metadata": {},
   "source": [
    "### Series"
   ]
  },
  {
   "cell_type": "code",
   "execution_count": null,
   "id": "e34d2080",
   "metadata": {},
   "outputs": [],
   "source": [
    "data = {\n",
    "    'Names':[\"Vinay\", \"ram\", \"filp\", \"Joe\", \"john\"],\n",
    "    \"Email\" : [\"vinay@gmail.com\", \"Missing\", None, \"joe@gmai\", \"Na\"]\n",
    "    \n",
    "}\n"
   ]
  },
  {
   "cell_type": "markdown",
   "id": "8af0d3da",
   "metadata": {},
   "source": [
    " ### Atributes "
   ]
  },
  {
   "cell_type": "code",
   "execution_count": null,
   "id": "27cb35cd",
   "metadata": {},
   "outputs": [],
   "source": [
    "s = pd.Series([1,2,3,4,None], index=['a', 'b', 'c', 'd', 'e'])"
   ]
  },
  {
   "cell_type": "code",
   "execution_count": null,
   "id": "335d5312",
   "metadata": {},
   "outputs": [],
   "source": [
    "\n",
    "s.name = \"FirstSeries\"\n",
    "s.name\n",
    "s.values  #array([1, 2, 3, 4, 5], dtype=int64)\n",
    "s.index  #Index(['a', 'b', 'c', 'd', 'e'], dtype='object')\n",
    "s.dtype  #Datatype"
   ]
  },
  {
   "cell_type": "markdown",
   "id": "f6f93843",
   "metadata": {},
   "source": [
    "### Operatiins "
   ]
  },
  {
   "cell_type": "code",
   "execution_count": null,
   "id": "b2c1ff91",
   "metadata": {},
   "outputs": [],
   "source": [
    "\n",
    "\n",
    "s + 5"
   ]
  },
  {
   "cell_type": "markdown",
   "id": "60f725b0",
   "metadata": {
    "jp-MarkdownHeadingCollapsed": true
   },
   "source": [
    "### Statistical methods"
   ]
  },
  {
   "cell_type": "code",
   "execution_count": null,
   "id": "2e2ae684",
   "metadata": {},
   "outputs": [],
   "source": [
    "\n",
    "s.describe()\n"
   ]
  },
  {
   "cell_type": "code",
   "execution_count": null,
   "id": "aabd6ee9",
   "metadata": {},
   "outputs": [],
   "source": [
    "s.median(skipna= False)\n",
    "s.std()\n",
    "s.var()  #Varience \n",
    "s.sum()\n",
    "s.prod()\n",
    "s.count() #return the no of non-null values\n",
    "s.min()\n",
    "s.max()\n",
    "s.quantile(1)  #provides the summary of distribution of the data \n",
    "s.cumsum() # cumulative sum\n",
    "s.cumprod() #cummulative prod\n",
    "s.cummax(axis=0) # cummulative max\n",
    "s.mean(skipna=True)"
   ]
  },
  {
   "cell_type": "markdown",
   "id": "1894674b",
   "metadata": {},
   "source": [
    "### Data manipulation methods"
   ]
  },
  {
   "cell_type": "code",
   "execution_count": null,
   "id": "58264560",
   "metadata": {},
   "outputs": [],
   "source": [
    "# apply\n",
    "#     use lambda functions \n",
    "\n",
    "data = {\n",
    "    'Names':[\"Vinay\", \"ram\", \"filp\", \"Joe\", \"john\"],\n",
    "    \"Email\" : [\"vinay@gmail.com\", \"Missing\", None, \"joe@gmai\", \"Na\"],\n",
    "    \"salary\" : [1000, 2000, 13000, 1203, 23932]\n",
    "}\n",
    "\n",
    "df = pd.DataFrame(data)\n",
    "\n",
    "def mul(x):\n",
    "    return x**2\n",
    "\n",
    "def clasify(x):\n",
    "    if x < 1300:\n",
    "        return \"LOW\"\n",
    "    else:\n",
    "        return \"High\"\n",
    "\n",
    "df[\"sal_sta\"] = df['salary'].apply(clasify)\n",
    "df\n"
   ]
  },
  {
   "cell_type": "code",
   "execution_count": null,
   "id": "17d7566d",
   "metadata": {},
   "outputs": [],
   "source": [
    "# map()\n",
    "# useCase:  Maps values of the Series using input correspondence (dict, Series, or function). Useful for replacing or transforming values\n",
    "# Series.map(arg, na_action=None)\n",
    "#     arg: Function, dictionary, or Series\n",
    "\n",
    "#     Function: A function applied to each element of the Series.\n",
    "#     Dictionary: A dictionary that maps each value to a new value.\n",
    "#     Series: A Series that maps each value to a new value.\n",
    "\n",
    "# na_action = ignores the null values\n",
    "\n",
    "\n",
    "# 1 Map with a function \n",
    "def double(x):\n",
    "    return 0 if x == 1  else x **2\n",
    "\n",
    "s.map(double)\n",
    "\n",
    "\n",
    "# 2 Map with a dict\n",
    "\n",
    "s.map({1.0:\"a\", 2.0:2.000})\n"
   ]
  },
  {
   "cell_type": "code",
   "execution_count": null,
   "id": "32407b65",
   "metadata": {},
   "outputs": [],
   "source": [
    " \n",
    "\n",
    "# Sample data\n",
    "data = pd.Series(['M', 'F', 'F', 'M', 'M',])\n",
    "\n",
    "# Dictionary for mapping\n",
    "gender_mapping = {'M': 'Male', 'F': 'Female'}\n",
    "\n",
    "# Applying the dictionary to the Series\n",
    "standardized_data = data.map(gender_mapping)\n",
    "\n",
    "print(standardized_data)\n"
   ]
  },
  {
   "cell_type": "code",
   "execution_count": null,
   "id": "7c6585ed",
   "metadata": {},
   "outputs": [],
   "source": [
    "# replace method\n",
    "# .replace(to_replace, vlaue)\n",
    "\n",
    "s = pd.Series(['A', 'B', 'A', 'C'])\n",
    "replaced = s.replace({'A': 1, 'B': 2}) \n",
    "replaced\n",
    "replaced = s.replace('B', None)\n",
    "replaced\n"
   ]
  },
  {
   "cell_type": "code",
   "execution_count": null,
   "id": "021132e2",
   "metadata": {},
   "outputs": [],
   "source": [
    "s.sort_values()"
   ]
  },
  {
   "cell_type": "code",
   "execution_count": null,
   "id": "36b3f3ea",
   "metadata": {},
   "outputs": [],
   "source": [
    "s = pd.Series([34, 43, 99, 34, 43,99,99,99,99])\n",
    "s.rank(ascending=False)"
   ]
  },
  {
   "cell_type": "markdown",
   "id": "c92c5ac3",
   "metadata": {},
   "source": [
    "### Handleling missing data\n"
   ]
  },
  {
   "cell_type": "code",
   "execution_count": null,
   "id": "e25e3e70",
   "metadata": {},
   "outputs": [],
   "source": [
    "s = pd.Series([1,2,3,None, 4, None, 5])\n",
    "s.isnull()\n",
    "s.notnull()\n",
    "s.dropna(axis=0, how=\"any\") #returns a new series\n",
    "s.fillna(method=\"pad\", inplace=True)\n",
    "#   method = \"bfill\", \"ffill\", \n"
   ]
  },
  {
   "cell_type": "markdown",
   "id": "4113a0a0",
   "metadata": {},
   "source": [
    "### String manipulation "
   ]
  },
  {
   "cell_type": "code",
   "execution_count": null,
   "id": "1d16d356",
   "metadata": {},
   "outputs": [],
   "source": [
    "\n",
    "s = pd.Series(['apple', 'banana', 'cherry'])\n",
    "lengths = s.str.len()\n",
    "print(lengths)\n"
   ]
  },
  {
   "cell_type": "code",
   "execution_count": null,
   "id": "62c4867c",
   "metadata": {},
   "outputs": [],
   "source": [
    " \n",
    "s = pd.Series(['apple', 'banana', 'cherry'])\n",
    "contains_a = s.str.contains('a')\n",
    "print(contains_a)\n"
   ]
  },
  {
   "cell_type": "code",
   "execution_count": null,
   "id": "d5105866",
   "metadata": {},
   "outputs": [],
   "source": [
    " \n",
    "s = pd.Series(['apple', 'banana', 'cherry'])\n",
    "replaced_s = s.str.replace('a', 'A')\n",
    "print(replaced_s)\n"
   ]
  },
  {
   "cell_type": "code",
   "execution_count": null,
   "id": "ad691887",
   "metadata": {},
   "outputs": [],
   "source": [
    "\n",
    "s = pd.Series(['apple', 'banana', 'cherry'])\n",
    "starts_with_a = s.str.startswith('a')\n",
    "print(starts_with_a)\n",
    "\n"
   ]
  },
  {
   "cell_type": "markdown",
   "id": "926098d4",
   "metadata": {},
   "source": [
    "### Indexing method "
   ]
  },
  {
   "cell_type": "code",
   "execution_count": null,
   "id": "d13c1410",
   "metadata": {},
   "outputs": [],
   "source": [
    "s.loc[0]\n",
    "s.iloc[0]\n",
    "s.at[0]   #only use full for selection a single row\n",
    "s.iat[0]\n",
    "s.sample(n=2)  #picls a random sample\n",
    "\n",
    "s.sample(3)"
   ]
  },
  {
   "cell_type": "markdown",
   "id": "1037ec5d",
   "metadata": {
    "jp-MarkdownHeadingCollapsed": true
   },
   "source": [
    "# Loading csv files\n",
    "#### filepath_or_buffer: Specifies the file path or object containing the CSV data.\n",
    "#### sep: Specifies the delimiter to use for separating columns.\n",
    "\n",
    "#### header: Specifies which row to use as column names. Can be an integer (0-indexed), list of integers indicating row numbers to use as headers, or None if no header is present.\n",
    "\n",
    "#### names: Specifies column names to use if the file does not contain a header row.\n",
    "\n",
    "#### index_col: Specifies which column to use as the row labels of the DataFrame.\n",
    "\n",
    "#### usecols: Specifies which columns to read from the file.\n",
    "\n",
    "#### dtype: Specifies data types for columns or columns.\n",
    "\n",
    "#### parse_dates: Specifies columns to parse as dates.\n",
    "\n",
    "#### na_values: Specifies additional strings to recognize as NaN.\n",
    "\n",
    "#### skiprows: Specifies the number of rows to skip from the beginning of the file.\n",
    "\n",
    "#### skipfooter: Specifies the number of lines at the end of the file to skip.\n",
    "\n",
    "#### chunksize: Specifies the number of rows to read at a time and return as an iterator.\n",
    "\n",
    "#### encoding: Specifies the encoding to use for the file."
   ]
  },
  {
   "cell_type": "code",
   "execution_count": null,
   "id": "434777bd",
   "metadata": {
    "slideshow": {
     "slide_type": "-"
    }
   },
   "outputs": [],
   "source": [
    "schema_df = pd.read_csv(\"DataSets/survey_results_schema.csv\")"
   ]
  },
  {
   "cell_type": "code",
   "execution_count": null,
   "id": "9bb21567",
   "metadata": {},
   "outputs": [],
   "source": [
    "df = pd.read_csv(\"DataSets/survey_results_public.csv\")"
   ]
  },
  {
   "cell_type": "code",
   "execution_count": null,
   "id": "a5d06896",
   "metadata": {},
   "outputs": [],
   "source": [
    "int_columns = df.select_dtypes(include=\"int\")  #only selects the columns which are int  \n",
    "int_columns\n"
   ]
  },
  {
   "cell_type": "code",
   "execution_count": null,
   "id": "6ca91010",
   "metadata": {},
   "outputs": [],
   "source": [
    "movies_df = pd.read_csv(\"DataSets/random_movies.csv\")\n",
    "movies_df.set_index(\"Title\", inplace=True)\n",
    "movies_df.to_csv(\"DataSets\\mod_movies.csv\", index=False, sep=\"-\")\n",
    "temp = pd.read_csv(\"DataSets\\mod_movies.csv\", sep=\"-\")\n",
    " "
   ]
  },
  {
   "cell_type": "code",
   "execution_count": null,
   "id": "3ba5b635",
   "metadata": {
    "scrolled": true
   },
   "outputs": [],
   "source": [
    "# select column names\n",
    "\n",
    "df = pd.read_csv(\"DataSets/random_movies.csv\", header=1)  #sets the first row as  columns names\n",
    "df\n"
   ]
  },
  {
   "cell_type": "code",
   "execution_count": null,
   "id": "5b43385e",
   "metadata": {},
   "outputs": [],
   "source": [
    "# pass set the column names while loadinf the data\n",
    "df = pd.read_csv(\"DataSets/random_movies.csv\", names=[\"m\", \"n\", \"mm\"])  \n",
    "df"
   ]
  },
  {
   "cell_type": "code",
   "execution_count": null,
   "id": "ce34510c",
   "metadata": {},
   "outputs": [],
   "source": [
    "df = pd.read_csv(\"DataSets/random_movies.csv\", index_col=4)   #sets the fourth column as a index  \n",
    "df"
   ]
  },
  {
   "cell_type": "code",
   "execution_count": null,
   "id": "495b3694",
   "metadata": {
    "scrolled": true
   },
   "outputs": [],
   "source": [
    "df = pd.read_csv(\"DataSets/random_movies.csv\", dtype=\"str\")  \n",
    "type(df.loc[0][0])"
   ]
  },
  {
   "cell_type": "code",
   "execution_count": null,
   "id": "89485171",
   "metadata": {},
   "outputs": [],
   "source": [
    "df[\"Rating\"] = df.Rating.astype(float)\n",
    "df.Rating.dtype\n",
    "df.Year.dtype\n",
    "df.dtypes\n"
   ]
  },
  {
   "cell_type": "code",
   "execution_count": null,
   "id": "1c14c7a5",
   "metadata": {},
   "outputs": [],
   "source": [
    "df = pd.read_csv(\"DataSets/random_movies.csv\", skipfooter=10, engine=\"python\")  \n",
    "df"
   ]
  },
  {
   "cell_type": "code",
   "execution_count": null,
   "id": "9060aec9",
   "metadata": {},
   "outputs": [],
   "source": [
    "df = pd.read_csv(\"DataSets/textcsv.csv\", index_col=\"Name\")  \n",
    "df.loc[\"vinay\"]"
   ]
  },
  {
   "cell_type": "markdown",
   "id": "557dae97",
   "metadata": {
    "jp-MarkdownHeadingCollapsed": true
   },
   "source": [
    "# Loading excell files\n"
   ]
  },
  {
   "cell_type": "markdown",
   "id": "55e960c5",
   "metadata": {
    "jp-MarkdownHeadingCollapsed": true
   },
   "source": [
    "# Data Cleaning"
   ]
  },
  {
   "cell_type": "code",
   "execution_count": null,
   "id": "ba7f858a-6d25-4788-903e-a1b6ccf439bc",
   "metadata": {},
   "outputs": [],
   "source": []
  },
  {
   "cell_type": "code",
   "execution_count": null,
   "id": "d7fb7b1a-c6ec-41af-912e-a4e9f399a027",
   "metadata": {},
   "outputs": [],
   "source": [
    "db = sq.connect(\"example.db\")\n",
    "cursor = db.cursor()\n",
    "df = pd.read_csv(\"DataSets/BTC-USD.csv\")\n",
    "df.to_sql(name=\"BITCOIN\", con=db, index=False, if_exists=\"replace\")\n"
   ]
  },
  {
   "cell_type": "code",
   "execution_count": null,
   "id": "05808213-d2ef-4e05-a2be-e82a2ebe356d",
   "metadata": {},
   "outputs": [],
   "source": [
    "query = \"select * from BITCOIN\"\n",
    "cursor.execute"
   ]
  },
  {
   "cell_type": "code",
   "execution_count": null,
   "id": "a61186de",
   "metadata": {},
   "outputs": [],
   "source": [
    "# df[\"YearsCode\"].fillna(0)\n",
    "# df.replace(\"Less than 1 year\", 0, inplace=True)\n",
    "# df.replace(\"More than 50 years\", 51, inplace=True)\n",
    "# df[\"YearsCode\"] = df.YearsCode.astype(float)\n",
    "# df.YearsCode.mean().round() \n",
    "# df.YearsCode.count() # Counts the non none vlaue in the YearsCode column\n",
    "# df.count()  #Gives each column with No None values \n",
    "# (f\"Median : {df.YearsCode.median():10}\")  # Median :       11.0\n",
    "# df.YearsCode.mode()\n",
    "\n",
    "\n",
    "# fill missing values with mean\n",
    "\n",
    "temp = df.YearsCode\n",
    "temp.replace([\"Less than 1 year\"], 0)\n",
    "temp.replace([\"More than 50 years\", 51])\n",
    "mean_f = temp.mean()\n",
    "df.YearsCode.fillna(mean_f, inplace=True)\n",
    "df.YearsCode.isnull().sum()    #checks how many null vlaues are there in colum ans also valid for df\n",
    "df.YearsCode.mean()\n",
    "df.YearsCode.mode()\n",
    "df.YearsCode.median()\n",
    "\n",
    "\n"
   ]
  },
  {
   "cell_type": "markdown",
   "id": "5c74cd39",
   "metadata": {},
   "source": [
    "#### Checking for the duplicates "
   ]
  },
  {
   "cell_type": "code",
   "execution_count": null,
   "id": "d7457537",
   "metadata": {
    "scrolled": true
   },
   "outputs": [],
   "source": [
    "df.drop_duplicates()"
   ]
  },
  {
   "cell_type": "markdown",
   "id": "c3ca085a-c9fc-43b0-afb2-ca052b69a9a1",
   "metadata": {},
   "source": [
    "# Gropby"
   ]
  },
  {
   "cell_type": "code",
   "execution_count": null,
   "id": "b054334a-8eb3-41c9-8db4-249916a288f5",
   "metadata": {
    "scrolled": true
   },
   "outputs": [],
   "source": [
    "df = pd.read_csv(\"DataSets/student_performance_data.csv\")\n",
    "gp = df.groupby(\"Gender\")\n",
    "\n"
   ]
  },
  {
   "cell_type": "code",
   "execution_count": null,
   "id": "b97fc189-6da2-45f4-bb24-9752eb205095",
   "metadata": {
    "scrolled": true
   },
   "outputs": [],
   "source": [
    "gp.get_group(\"Male\")"
   ]
  },
  {
   "cell_type": "code",
   "execution_count": null,
   "id": "92dce471-9374-47d4-9519-9f00233c80fb",
   "metadata": {
    "scrolled": true
   },
   "outputs": [],
   "source": [
    "gp.get_group(\"Female\")"
   ]
  },
  {
   "cell_type": "code",
   "execution_count": null,
   "id": "ef5fa59f-5893-4c74-b95f-e70a315ae3be",
   "metadata": {
    "scrolled": true
   },
   "outputs": [],
   "source": [
    "female = gp.get_group(\"Female\")\n",
    "female.describe()\n",
    "female.Age.plot()"
   ]
  },
  {
   "cell_type": "markdown",
   "id": "849546ad-e3e9-4c57-9ab2-31a72b3cf7b7",
   "metadata": {},
   "source": [
    "# General display settings"
   ]
  },
  {
   "cell_type": "code",
   "execution_count": 7,
   "id": "b970a8c5-a2cf-4fa7-950e-9044442dbeb3",
   "metadata": {},
   "outputs": [
    {
     "data": {
      "text/plain": [
       "60"
      ]
     },
     "execution_count": 7,
     "metadata": {},
     "output_type": "execute_result"
    }
   ],
   "source": [
    "pd.get_option(\"display.max_rows\")   # gives the default or current value \n",
    "pd.set_option(\"display.max_columns\", 10)  #we can set a value\n",
    "pd.reset_option(\"display.max_rows\")      #resetting "
   ]
  },
  {
   "cell_type": "code",
   "execution_count": null,
   "id": "b1a266b6-26a3-4aad-aaa0-7c7478fe903f",
   "metadata": {},
   "outputs": [],
   "source": [
    "pd.get_optinns"
   ]
  },
  {
   "cell_type": "code",
   "execution_count": 12,
   "id": "bf3f1f3f-b9e0-48fe-b052-4fd8a360f213",
   "metadata": {},
   "outputs": [
    {
     "ename": "AttributeError",
     "evalue": "module 'pandas' has no attribute 'styles'",
     "output_type": "error",
     "traceback": [
      "\u001b[1;31m---------------------------------------------------------------------------\u001b[0m",
      "\u001b[1;31mAttributeError\u001b[0m                            Traceback (most recent call last)",
      "Cell \u001b[1;32mIn[12], line 1\u001b[0m\n\u001b[1;32m----> 1\u001b[0m pd\u001b[38;5;241m.\u001b[39mstyles\n",
      "\u001b[1;31mAttributeError\u001b[0m: module 'pandas' has no attribute 'styles'"
     ]
    }
   ],
   "source": []
  },
  {
   "cell_type": "code",
   "execution_count": null,
   "id": "38f4f785-d643-4654-a572-d6af38916cf9",
   "metadata": {},
   "outputs": [],
   "source": []
  }
 ],
 "metadata": {
  "kernelspec": {
   "display_name": "Python (myenv)",
   "language": "python",
   "name": "myenv"
  },
  "language_info": {
   "codemirror_mode": {
    "name": "ipython",
    "version": 3
   },
   "file_extension": ".py",
   "mimetype": "text/x-python",
   "name": "python",
   "nbconvert_exporter": "python",
   "pygments_lexer": "ipython3",
   "version": "3.12.4"
  }
 },
 "nbformat": 4,
 "nbformat_minor": 5
}
