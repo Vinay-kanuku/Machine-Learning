{
 "cells": [
  {
   "cell_type": "code",
   "execution_count": 2,
   "id": "79610b9a-ef33-4d17-8f46-df082fef91b8",
   "metadata": {},
   "outputs": [],
   "source": [
    "import pandas as pd \n",
    "import numpy as np\n",
    "import os \n",
    "import sqlite3 as sq\n",
    "import matplotlib.pyplot as plt"
   ]
  },
  {
   "cell_type": "markdown",
   "id": "370a2e8f",
   "metadata": {},
   "source": [
    "### Series"
   ]
  },
  {
   "cell_type": "code",
   "execution_count": 3,
   "id": "e34d2080",
   "metadata": {},
   "outputs": [],
   "source": [
    "data = {\n",
    "    'Names':[\"Vinay\", \"ram\", \"filp\", \"Joe\", \"john\"],\n",
    "    \"Email\" : [\"vinay@gmail.com\", \"Missing\", None, \"joe@gmai\", \"Na\"]\n",
    "    \n",
    "}\n"
   ]
  },
  {
   "cell_type": "markdown",
   "id": "8af0d3da",
   "metadata": {},
   "source": [
    " ### Atributes "
   ]
  },
  {
   "cell_type": "code",
   "execution_count": 4,
   "id": "27cb35cd",
   "metadata": {},
   "outputs": [],
   "source": [
    "s = pd.Series([1,2,3,4,None], index=['a', 'b', 'c', 'd', 'e'])"
   ]
  },
  {
   "cell_type": "code",
   "execution_count": 5,
   "id": "335d5312",
   "metadata": {},
   "outputs": [
    {
     "data": {
      "text/plain": [
       "dtype('float64')"
      ]
     },
     "execution_count": 5,
     "metadata": {},
     "output_type": "execute_result"
    }
   ],
   "source": [
    "\n",
    "s.name = \"FirstSeries\"\n",
    "s.name\n",
    "s.values  #array([1, 2, 3, 4, 5], dtype=int64)\n",
    "s.index  #Index(['a', 'b', 'c', 'd', 'e'], dtype='object')\n",
    "s.dtype  #Datatype"
   ]
  },
  {
   "cell_type": "markdown",
   "id": "f6f93843",
   "metadata": {},
   "source": [
    "### Operatiins "
   ]
  },
  {
   "cell_type": "code",
   "execution_count": 6,
   "id": "b2c1ff91",
   "metadata": {},
   "outputs": [
    {
     "data": {
      "text/plain": [
       "a    6.0\n",
       "b    7.0\n",
       "c    8.0\n",
       "d    9.0\n",
       "e    NaN\n",
       "Name: FirstSeries, dtype: float64"
      ]
     },
     "execution_count": 6,
     "metadata": {},
     "output_type": "execute_result"
    }
   ],
   "source": [
    "\n",
    "\n",
    "s + 5"
   ]
  },
  {
   "cell_type": "markdown",
   "id": "60f725b0",
   "metadata": {
    "jp-MarkdownHeadingCollapsed": true
   },
   "source": [
    "### Statistical methods"
   ]
  },
  {
   "cell_type": "code",
   "execution_count": 7,
   "id": "2e2ae684",
   "metadata": {},
   "outputs": [
    {
     "data": {
      "text/plain": [
       "count    4.000000\n",
       "mean     2.500000\n",
       "std      1.290994\n",
       "min      1.000000\n",
       "25%      1.750000\n",
       "50%      2.500000\n",
       "75%      3.250000\n",
       "max      4.000000\n",
       "Name: FirstSeries, dtype: float64"
      ]
     },
     "execution_count": 7,
     "metadata": {},
     "output_type": "execute_result"
    }
   ],
   "source": [
    "\n",
    "s.describe()\n"
   ]
  },
  {
   "cell_type": "code",
   "execution_count": 8,
   "id": "aabd6ee9",
   "metadata": {},
   "outputs": [
    {
     "data": {
      "text/plain": [
       "2.5"
      ]
     },
     "execution_count": 8,
     "metadata": {},
     "output_type": "execute_result"
    }
   ],
   "source": [
    "s.median(skipna= False)\n",
    "s.std()\n",
    "s.var()  #Varience \n",
    "s.sum()\n",
    "s.prod()\n",
    "s.count() #return the no of non-null values\n",
    "s.min()\n",
    "s.max()\n",
    "s.quantile(1)  #provides the summary of distribution of the data \n",
    "s.cumsum() # cumulative sum\n",
    "s.cumprod() #cummulative prod\n",
    "s.cummax(axis=0) # cummulative max\n",
    "s.mean(skipna=True)"
   ]
  },
  {
   "cell_type": "markdown",
   "id": "1894674b",
   "metadata": {},
   "source": [
    "### Data manipulation methods"
   ]
  },
  {
   "cell_type": "code",
   "execution_count": 9,
   "id": "58264560",
   "metadata": {},
   "outputs": [
    {
     "data": {
      "text/html": [
       "<div>\n",
       "<style scoped>\n",
       "    .dataframe tbody tr th:only-of-type {\n",
       "        vertical-align: middle;\n",
       "    }\n",
       "\n",
       "    .dataframe tbody tr th {\n",
       "        vertical-align: top;\n",
       "    }\n",
       "\n",
       "    .dataframe thead th {\n",
       "        text-align: right;\n",
       "    }\n",
       "</style>\n",
       "<table border=\"1\" class=\"dataframe\">\n",
       "  <thead>\n",
       "    <tr style=\"text-align: right;\">\n",
       "      <th></th>\n",
       "      <th>Names</th>\n",
       "      <th>Email</th>\n",
       "      <th>salary</th>\n",
       "      <th>sal_sta</th>\n",
       "    </tr>\n",
       "  </thead>\n",
       "  <tbody>\n",
       "    <tr>\n",
       "      <th>0</th>\n",
       "      <td>Vinay</td>\n",
       "      <td>vinay@gmail.com</td>\n",
       "      <td>1000</td>\n",
       "      <td>LOW</td>\n",
       "    </tr>\n",
       "    <tr>\n",
       "      <th>1</th>\n",
       "      <td>ram</td>\n",
       "      <td>Missing</td>\n",
       "      <td>2000</td>\n",
       "      <td>High</td>\n",
       "    </tr>\n",
       "    <tr>\n",
       "      <th>2</th>\n",
       "      <td>filp</td>\n",
       "      <td>None</td>\n",
       "      <td>13000</td>\n",
       "      <td>High</td>\n",
       "    </tr>\n",
       "    <tr>\n",
       "      <th>3</th>\n",
       "      <td>Joe</td>\n",
       "      <td>joe@gmai</td>\n",
       "      <td>1203</td>\n",
       "      <td>LOW</td>\n",
       "    </tr>\n",
       "    <tr>\n",
       "      <th>4</th>\n",
       "      <td>john</td>\n",
       "      <td>Na</td>\n",
       "      <td>23932</td>\n",
       "      <td>High</td>\n",
       "    </tr>\n",
       "  </tbody>\n",
       "</table>\n",
       "</div>"
      ],
      "text/plain": [
       "   Names            Email  salary sal_sta\n",
       "0  Vinay  vinay@gmail.com    1000     LOW\n",
       "1    ram          Missing    2000    High\n",
       "2   filp             None   13000    High\n",
       "3    Joe         joe@gmai    1203     LOW\n",
       "4   john               Na   23932    High"
      ]
     },
     "execution_count": 9,
     "metadata": {},
     "output_type": "execute_result"
    }
   ],
   "source": [
    "# apply\n",
    "#     use lambda functions \n",
    "\n",
    "data = {\n",
    "    'Names':[\"Vinay\", \"ram\", \"filp\", \"Joe\", \"john\"],\n",
    "    \"Email\" : [\"vinay@gmail.com\", \"Missing\", None, \"joe@gmai\", \"Na\"],\n",
    "    \"salary\" : [1000, 2000, 13000, 1203, 23932]\n",
    "}\n",
    "\n",
    "df = pd.DataFrame(data)\n",
    "\n",
    "def mul(x):\n",
    "    return x**2\n",
    "\n",
    "def clasify(x):\n",
    "    if x < 1300:\n",
    "        return \"LOW\"\n",
    "    else:\n",
    "        return \"High\"\n",
    "\n",
    "df[\"sal_sta\"] = df['salary'].apply(clasify)\n",
    "df\n"
   ]
  },
  {
   "cell_type": "code",
   "execution_count": 10,
   "id": "17d7566d",
   "metadata": {},
   "outputs": [
    {
     "data": {
      "text/plain": [
       "a      a\n",
       "b    2.0\n",
       "c    NaN\n",
       "d    NaN\n",
       "e    NaN\n",
       "Name: FirstSeries, dtype: object"
      ]
     },
     "execution_count": 10,
     "metadata": {},
     "output_type": "execute_result"
    }
   ],
   "source": [
    "# map()\n",
    "# useCase:  Maps values of the Series using input correspondence (dict, Series, or function). Useful for replacing or transforming values\n",
    "# Series.map(arg, na_action=None)\n",
    "#     arg: Function, dictionary, or Series\n",
    "\n",
    "#     Function: A function applied to each element of the Series.\n",
    "#     Dictionary: A dictionary that maps each value to a new value.\n",
    "#     Series: A Series that maps each value to a new value.\n",
    "\n",
    "# na_action = ignores the null values\n",
    "\n",
    "\n",
    "# 1 Map with a function \n",
    "def double(x):\n",
    "    return 0 if x == 1  else x **2\n",
    "\n",
    "s.map(double)\n",
    "\n",
    "\n",
    "# 2 Map with a dict\n",
    "\n",
    "s.map({1.0:\"a\", 2.0:2.000})\n"
   ]
  },
  {
   "cell_type": "code",
   "execution_count": 11,
   "id": "32407b65",
   "metadata": {},
   "outputs": [
    {
     "name": "stdout",
     "output_type": "stream",
     "text": [
      "0      Male\n",
      "1    Female\n",
      "2    Female\n",
      "3      Male\n",
      "4      Male\n",
      "dtype: object\n"
     ]
    }
   ],
   "source": [
    " \n",
    "\n",
    "# Sample data\n",
    "data = pd.Series(['M', 'F', 'F', 'M', 'M',])\n",
    "\n",
    "# Dictionary for mapping\n",
    "gender_mapping = {'M': 'Male', 'F': 'Female'}\n",
    "\n",
    "# Applying the dictionary to the Series\n",
    "standardized_data = data.map(gender_mapping)\n",
    "\n",
    "print(standardized_data)\n"
   ]
  },
  {
   "cell_type": "code",
   "execution_count": 12,
   "id": "7c6585ed",
   "metadata": {},
   "outputs": [
    {
     "data": {
      "text/plain": [
       "0       A\n",
       "1    None\n",
       "2       A\n",
       "3       C\n",
       "dtype: object"
      ]
     },
     "execution_count": 12,
     "metadata": {},
     "output_type": "execute_result"
    }
   ],
   "source": [
    "# replace method\n",
    "# .replace(to_replace, vlaue)\n",
    "\n",
    "s = pd.Series(['A', 'B', 'A', 'C'])\n",
    "replaced = s.replace({'A': 1, 'B': 2}) \n",
    "replaced\n",
    "replaced = s.replace('B', None)\n",
    "replaced\n"
   ]
  },
  {
   "cell_type": "code",
   "execution_count": 13,
   "id": "021132e2",
   "metadata": {},
   "outputs": [
    {
     "data": {
      "text/plain": [
       "0    A\n",
       "2    A\n",
       "1    B\n",
       "3    C\n",
       "dtype: object"
      ]
     },
     "execution_count": 13,
     "metadata": {},
     "output_type": "execute_result"
    }
   ],
   "source": [
    "s.sort_values()"
   ]
  },
  {
   "cell_type": "code",
   "execution_count": 14,
   "id": "36b3f3ea",
   "metadata": {},
   "outputs": [
    {
     "data": {
      "text/plain": [
       "0    8.5\n",
       "1    6.5\n",
       "2    3.0\n",
       "3    8.5\n",
       "4    6.5\n",
       "5    3.0\n",
       "6    3.0\n",
       "7    3.0\n",
       "8    3.0\n",
       "dtype: float64"
      ]
     },
     "execution_count": 14,
     "metadata": {},
     "output_type": "execute_result"
    }
   ],
   "source": [
    "s = pd.Series([34, 43, 99, 34, 43,99,99,99,99])\n",
    "s.rank(ascending=False)"
   ]
  },
  {
   "cell_type": "markdown",
   "id": "c92c5ac3",
   "metadata": {},
   "source": [
    "### Handleling missing data\n"
   ]
  },
  {
   "cell_type": "code",
   "execution_count": 15,
   "id": "e25e3e70",
   "metadata": {},
   "outputs": [
    {
     "name": "stderr",
     "output_type": "stream",
     "text": [
      "C:\\Users\\kanuk\\AppData\\Local\\Temp\\ipykernel_14368\\4161637298.py:5: FutureWarning: Series.fillna with 'method' is deprecated and will raise in a future version. Use obj.ffill() or obj.bfill() instead.\n",
      "  s.fillna(method=\"pad\", inplace=True)\n"
     ]
    }
   ],
   "source": [
    "s = pd.Series([1,2,3,None, 4, None, 5])\n",
    "s.isnull()\n",
    "s.notnull()\n",
    "s.dropna(axis=0, how=\"any\") #returns a new series\n",
    "s.fillna(method=\"pad\", inplace=True)\n",
    "#   method = \"bfill\", \"ffill\", \n"
   ]
  },
  {
   "cell_type": "markdown",
   "id": "4113a0a0",
   "metadata": {},
   "source": [
    "### String manipulation "
   ]
  },
  {
   "cell_type": "code",
   "execution_count": 16,
   "id": "1d16d356",
   "metadata": {},
   "outputs": [
    {
     "name": "stdout",
     "output_type": "stream",
     "text": [
      "0    5\n",
      "1    6\n",
      "2    6\n",
      "dtype: int64\n"
     ]
    }
   ],
   "source": [
    "\n",
    "s = pd.Series(['apple', 'banana', 'cherry'])\n",
    "lengths = s.str.len()\n",
    "print(lengths)\n"
   ]
  },
  {
   "cell_type": "code",
   "execution_count": 17,
   "id": "62c4867c",
   "metadata": {},
   "outputs": [
    {
     "name": "stdout",
     "output_type": "stream",
     "text": [
      "0     True\n",
      "1     True\n",
      "2    False\n",
      "dtype: bool\n"
     ]
    }
   ],
   "source": [
    " \n",
    "s = pd.Series(['apple', 'banana', 'cherry'])\n",
    "contains_a = s.str.contains('a')\n",
    "print(contains_a)\n"
   ]
  },
  {
   "cell_type": "code",
   "execution_count": 18,
   "id": "d5105866",
   "metadata": {},
   "outputs": [
    {
     "name": "stdout",
     "output_type": "stream",
     "text": [
      "0     Apple\n",
      "1    bAnAnA\n",
      "2    cherry\n",
      "dtype: object\n"
     ]
    }
   ],
   "source": [
    " \n",
    "s = pd.Series(['apple', 'banana', 'cherry'])\n",
    "replaced_s = s.str.replace('a', 'A')\n",
    "print(replaced_s)\n"
   ]
  },
  {
   "cell_type": "code",
   "execution_count": 19,
   "id": "ad691887",
   "metadata": {},
   "outputs": [
    {
     "name": "stdout",
     "output_type": "stream",
     "text": [
      "0     True\n",
      "1    False\n",
      "2    False\n",
      "dtype: bool\n"
     ]
    }
   ],
   "source": [
    "\n",
    "s = pd.Series(['apple', 'banana', 'cherry'])\n",
    "starts_with_a = s.str.startswith('a')\n",
    "print(starts_with_a)\n",
    "\n"
   ]
  },
  {
   "cell_type": "markdown",
   "id": "926098d4",
   "metadata": {},
   "source": [
    "### Indexing method "
   ]
  },
  {
   "cell_type": "code",
   "execution_count": 20,
   "id": "d13c1410",
   "metadata": {},
   "outputs": [
    {
     "data": {
      "text/plain": [
       "2    cherry\n",
       "1    banana\n",
       "0     apple\n",
       "dtype: object"
      ]
     },
     "execution_count": 20,
     "metadata": {},
     "output_type": "execute_result"
    }
   ],
   "source": [
    "s.loc[0]\n",
    "s.iloc[0]\n",
    "s.at[0]   #only use full for selection a single row\n",
    "s.iat[0]\n",
    "s.sample(n=2)  #picls a random sample\n",
    "\n",
    "s.sample(3)"
   ]
  },
  {
   "cell_type": "code",
   "execution_count": null,
   "id": "0ce21150",
   "metadata": {},
   "outputs": [],
   "source": []
  },
  {
   "cell_type": "markdown",
   "id": "1037ec5d",
   "metadata": {},
   "source": [
    "## Loading csv files\n",
    "#### filepath_or_buffer: Specifies the file path or object containing the CSV data.\n",
    "#### sep: Specifies the delimiter to use for separating columns.\n",
    "\n",
    "#### header: Specifies which row to use as column names. Can be an integer (0-indexed), list of integers indicating row numbers to use as headers, or None if no header is present.\n",
    "\n",
    "#### names: Specifies column names to use if the file does not contain a header row.\n",
    "\n",
    "#### index_col: Specifies which column to use as the row labels of the DataFrame.\n",
    "\n",
    "#### usecols: Specifies which columns to read from the file.\n",
    "\n",
    "#### dtype: Specifies data types for columns or columns.\n",
    "\n",
    "#### parse_dates: Specifies columns to parse as dates.\n",
    "\n",
    "#### na_values: Specifies additional strings to recognize as NaN.\n",
    "\n",
    "#### skiprows: Specifies the number of rows to skip from the beginning of the file.\n",
    "\n",
    "#### skipfooter: Specifies the number of lines at the end of the file to skip.\n",
    "\n",
    "#### chunksize: Specifies the number of rows to read at a time and return as an iterator.\n",
    "\n",
    "#### encoding: Specifies the encoding to use for the file."
   ]
  },
  {
   "cell_type": "code",
   "execution_count": 21,
   "id": "434777bd",
   "metadata": {
    "slideshow": {
     "slide_type": "-"
    }
   },
   "outputs": [],
   "source": [
    "schema_df = pd.read_csv(\"DataSets/survey_results_schema.csv\")"
   ]
  },
  {
   "cell_type": "code",
   "execution_count": 22,
   "id": "9bb21567",
   "metadata": {},
   "outputs": [],
   "source": [
    "df = pd.read_csv(\"DataSets/survey_results_public.csv\")"
   ]
  },
  {
   "cell_type": "code",
   "execution_count": 23,
   "id": "a5d06896",
   "metadata": {},
   "outputs": [
    {
     "data": {
      "text/html": [
       "<div>\n",
       "<style scoped>\n",
       "    .dataframe tbody tr th:only-of-type {\n",
       "        vertical-align: middle;\n",
       "    }\n",
       "\n",
       "    .dataframe tbody tr th {\n",
       "        vertical-align: top;\n",
       "    }\n",
       "\n",
       "    .dataframe thead th {\n",
       "        text-align: right;\n",
       "    }\n",
       "</style>\n",
       "<table border=\"1\" class=\"dataframe\">\n",
       "  <thead>\n",
       "    <tr style=\"text-align: right;\">\n",
       "      <th></th>\n",
       "      <th>ResponseId</th>\n",
       "    </tr>\n",
       "  </thead>\n",
       "  <tbody>\n",
       "    <tr>\n",
       "      <th>0</th>\n",
       "      <td>1</td>\n",
       "    </tr>\n",
       "    <tr>\n",
       "      <th>1</th>\n",
       "      <td>2</td>\n",
       "    </tr>\n",
       "    <tr>\n",
       "      <th>2</th>\n",
       "      <td>3</td>\n",
       "    </tr>\n",
       "    <tr>\n",
       "      <th>3</th>\n",
       "      <td>4</td>\n",
       "    </tr>\n",
       "    <tr>\n",
       "      <th>4</th>\n",
       "      <td>5</td>\n",
       "    </tr>\n",
       "    <tr>\n",
       "      <th>...</th>\n",
       "      <td>...</td>\n",
       "    </tr>\n",
       "    <tr>\n",
       "      <th>89179</th>\n",
       "      <td>89180</td>\n",
       "    </tr>\n",
       "    <tr>\n",
       "      <th>89180</th>\n",
       "      <td>89181</td>\n",
       "    </tr>\n",
       "    <tr>\n",
       "      <th>89181</th>\n",
       "      <td>89182</td>\n",
       "    </tr>\n",
       "    <tr>\n",
       "      <th>89182</th>\n",
       "      <td>89183</td>\n",
       "    </tr>\n",
       "    <tr>\n",
       "      <th>89183</th>\n",
       "      <td>89184</td>\n",
       "    </tr>\n",
       "  </tbody>\n",
       "</table>\n",
       "<p>89184 rows × 1 columns</p>\n",
       "</div>"
      ],
      "text/plain": [
       "       ResponseId\n",
       "0               1\n",
       "1               2\n",
       "2               3\n",
       "3               4\n",
       "4               5\n",
       "...           ...\n",
       "89179       89180\n",
       "89180       89181\n",
       "89181       89182\n",
       "89182       89183\n",
       "89183       89184\n",
       "\n",
       "[89184 rows x 1 columns]"
      ]
     },
     "execution_count": 23,
     "metadata": {},
     "output_type": "execute_result"
    }
   ],
   "source": [
    "int_columns = df.select_dtypes(include=\"int\")  #only selects the columns which are int  \n",
    "int_columns\n"
   ]
  },
  {
   "cell_type": "code",
   "execution_count": 24,
   "id": "6ca91010",
   "metadata": {},
   "outputs": [
    {
     "name": "stderr",
     "output_type": "stream",
     "text": [
      "<>:3: SyntaxWarning: invalid escape sequence '\\m'\n",
      "<>:4: SyntaxWarning: invalid escape sequence '\\m'\n",
      "<>:3: SyntaxWarning: invalid escape sequence '\\m'\n",
      "<>:4: SyntaxWarning: invalid escape sequence '\\m'\n",
      "C:\\Users\\kanuk\\AppData\\Local\\Temp\\ipykernel_14368\\816550066.py:3: SyntaxWarning: invalid escape sequence '\\m'\n",
      "  movies_df.to_csv(\"DataSets\\mod_movies.csv\", index=False, sep=\"-\")\n",
      "C:\\Users\\kanuk\\AppData\\Local\\Temp\\ipykernel_14368\\816550066.py:4: SyntaxWarning: invalid escape sequence '\\m'\n",
      "  temp = pd.read_csv(\"DataSets\\mod_movies.csv\", sep=\"-\")\n",
      "C:\\Users\\kanuk\\AppData\\Local\\Temp\\ipykernel_14368\\816550066.py:3: SyntaxWarning: invalid escape sequence '\\m'\n",
      "  movies_df.to_csv(\"DataSets\\mod_movies.csv\", index=False, sep=\"-\")\n",
      "C:\\Users\\kanuk\\AppData\\Local\\Temp\\ipykernel_14368\\816550066.py:4: SyntaxWarning: invalid escape sequence '\\m'\n",
      "  temp = pd.read_csv(\"DataSets\\mod_movies.csv\", sep=\"-\")\n"
     ]
    },
    {
     "ename": "FileNotFoundError",
     "evalue": "[Errno 2] No such file or directory: 'DataSets/random_movies.csv'",
     "output_type": "error",
     "traceback": [
      "\u001b[1;31m---------------------------------------------------------------------------\u001b[0m",
      "\u001b[1;31mFileNotFoundError\u001b[0m                         Traceback (most recent call last)",
      "Cell \u001b[1;32mIn[24], line 1\u001b[0m\n\u001b[1;32m----> 1\u001b[0m movies_df \u001b[38;5;241m=\u001b[39m pd\u001b[38;5;241m.\u001b[39mread_csv(\u001b[38;5;124m\"\u001b[39m\u001b[38;5;124mDataSets/random_movies.csv\u001b[39m\u001b[38;5;124m\"\u001b[39m)\n\u001b[0;32m      2\u001b[0m movies_df\u001b[38;5;241m.\u001b[39mset_index(\u001b[38;5;124m\"\u001b[39m\u001b[38;5;124mTitle\u001b[39m\u001b[38;5;124m\"\u001b[39m, inplace\u001b[38;5;241m=\u001b[39m\u001b[38;5;28;01mTrue\u001b[39;00m)\n\u001b[0;32m      3\u001b[0m movies_df\u001b[38;5;241m.\u001b[39mto_csv(\u001b[38;5;124m\"\u001b[39m\u001b[38;5;124mDataSets\u001b[39m\u001b[38;5;124m\\\u001b[39m\u001b[38;5;124mmod_movies.csv\u001b[39m\u001b[38;5;124m\"\u001b[39m, index\u001b[38;5;241m=\u001b[39m\u001b[38;5;28;01mFalse\u001b[39;00m, sep\u001b[38;5;241m=\u001b[39m\u001b[38;5;124m\"\u001b[39m\u001b[38;5;124m-\u001b[39m\u001b[38;5;124m\"\u001b[39m)\n",
      "File \u001b[1;32m~\\Downloads\\anaconda\\envs\\myenv\\Lib\\site-packages\\pandas\\io\\parsers\\readers.py:1026\u001b[0m, in \u001b[0;36mread_csv\u001b[1;34m(filepath_or_buffer, sep, delimiter, header, names, index_col, usecols, dtype, engine, converters, true_values, false_values, skipinitialspace, skiprows, skipfooter, nrows, na_values, keep_default_na, na_filter, verbose, skip_blank_lines, parse_dates, infer_datetime_format, keep_date_col, date_parser, date_format, dayfirst, cache_dates, iterator, chunksize, compression, thousands, decimal, lineterminator, quotechar, quoting, doublequote, escapechar, comment, encoding, encoding_errors, dialect, on_bad_lines, delim_whitespace, low_memory, memory_map, float_precision, storage_options, dtype_backend)\u001b[0m\n\u001b[0;32m   1013\u001b[0m kwds_defaults \u001b[38;5;241m=\u001b[39m _refine_defaults_read(\n\u001b[0;32m   1014\u001b[0m     dialect,\n\u001b[0;32m   1015\u001b[0m     delimiter,\n\u001b[1;32m   (...)\u001b[0m\n\u001b[0;32m   1022\u001b[0m     dtype_backend\u001b[38;5;241m=\u001b[39mdtype_backend,\n\u001b[0;32m   1023\u001b[0m )\n\u001b[0;32m   1024\u001b[0m kwds\u001b[38;5;241m.\u001b[39mupdate(kwds_defaults)\n\u001b[1;32m-> 1026\u001b[0m \u001b[38;5;28;01mreturn\u001b[39;00m _read(filepath_or_buffer, kwds)\n",
      "File \u001b[1;32m~\\Downloads\\anaconda\\envs\\myenv\\Lib\\site-packages\\pandas\\io\\parsers\\readers.py:620\u001b[0m, in \u001b[0;36m_read\u001b[1;34m(filepath_or_buffer, kwds)\u001b[0m\n\u001b[0;32m    617\u001b[0m _validate_names(kwds\u001b[38;5;241m.\u001b[39mget(\u001b[38;5;124m\"\u001b[39m\u001b[38;5;124mnames\u001b[39m\u001b[38;5;124m\"\u001b[39m, \u001b[38;5;28;01mNone\u001b[39;00m))\n\u001b[0;32m    619\u001b[0m \u001b[38;5;66;03m# Create the parser.\u001b[39;00m\n\u001b[1;32m--> 620\u001b[0m parser \u001b[38;5;241m=\u001b[39m TextFileReader(filepath_or_buffer, \u001b[38;5;241m*\u001b[39m\u001b[38;5;241m*\u001b[39mkwds)\n\u001b[0;32m    622\u001b[0m \u001b[38;5;28;01mif\u001b[39;00m chunksize \u001b[38;5;129;01mor\u001b[39;00m iterator:\n\u001b[0;32m    623\u001b[0m     \u001b[38;5;28;01mreturn\u001b[39;00m parser\n",
      "File \u001b[1;32m~\\Downloads\\anaconda\\envs\\myenv\\Lib\\site-packages\\pandas\\io\\parsers\\readers.py:1620\u001b[0m, in \u001b[0;36mTextFileReader.__init__\u001b[1;34m(self, f, engine, **kwds)\u001b[0m\n\u001b[0;32m   1617\u001b[0m     \u001b[38;5;28mself\u001b[39m\u001b[38;5;241m.\u001b[39moptions[\u001b[38;5;124m\"\u001b[39m\u001b[38;5;124mhas_index_names\u001b[39m\u001b[38;5;124m\"\u001b[39m] \u001b[38;5;241m=\u001b[39m kwds[\u001b[38;5;124m\"\u001b[39m\u001b[38;5;124mhas_index_names\u001b[39m\u001b[38;5;124m\"\u001b[39m]\n\u001b[0;32m   1619\u001b[0m \u001b[38;5;28mself\u001b[39m\u001b[38;5;241m.\u001b[39mhandles: IOHandles \u001b[38;5;241m|\u001b[39m \u001b[38;5;28;01mNone\u001b[39;00m \u001b[38;5;241m=\u001b[39m \u001b[38;5;28;01mNone\u001b[39;00m\n\u001b[1;32m-> 1620\u001b[0m \u001b[38;5;28mself\u001b[39m\u001b[38;5;241m.\u001b[39m_engine \u001b[38;5;241m=\u001b[39m \u001b[38;5;28mself\u001b[39m\u001b[38;5;241m.\u001b[39m_make_engine(f, \u001b[38;5;28mself\u001b[39m\u001b[38;5;241m.\u001b[39mengine)\n",
      "File \u001b[1;32m~\\Downloads\\anaconda\\envs\\myenv\\Lib\\site-packages\\pandas\\io\\parsers\\readers.py:1880\u001b[0m, in \u001b[0;36mTextFileReader._make_engine\u001b[1;34m(self, f, engine)\u001b[0m\n\u001b[0;32m   1878\u001b[0m     \u001b[38;5;28;01mif\u001b[39;00m \u001b[38;5;124m\"\u001b[39m\u001b[38;5;124mb\u001b[39m\u001b[38;5;124m\"\u001b[39m \u001b[38;5;129;01mnot\u001b[39;00m \u001b[38;5;129;01min\u001b[39;00m mode:\n\u001b[0;32m   1879\u001b[0m         mode \u001b[38;5;241m+\u001b[39m\u001b[38;5;241m=\u001b[39m \u001b[38;5;124m\"\u001b[39m\u001b[38;5;124mb\u001b[39m\u001b[38;5;124m\"\u001b[39m\n\u001b[1;32m-> 1880\u001b[0m \u001b[38;5;28mself\u001b[39m\u001b[38;5;241m.\u001b[39mhandles \u001b[38;5;241m=\u001b[39m get_handle(\n\u001b[0;32m   1881\u001b[0m     f,\n\u001b[0;32m   1882\u001b[0m     mode,\n\u001b[0;32m   1883\u001b[0m     encoding\u001b[38;5;241m=\u001b[39m\u001b[38;5;28mself\u001b[39m\u001b[38;5;241m.\u001b[39moptions\u001b[38;5;241m.\u001b[39mget(\u001b[38;5;124m\"\u001b[39m\u001b[38;5;124mencoding\u001b[39m\u001b[38;5;124m\"\u001b[39m, \u001b[38;5;28;01mNone\u001b[39;00m),\n\u001b[0;32m   1884\u001b[0m     compression\u001b[38;5;241m=\u001b[39m\u001b[38;5;28mself\u001b[39m\u001b[38;5;241m.\u001b[39moptions\u001b[38;5;241m.\u001b[39mget(\u001b[38;5;124m\"\u001b[39m\u001b[38;5;124mcompression\u001b[39m\u001b[38;5;124m\"\u001b[39m, \u001b[38;5;28;01mNone\u001b[39;00m),\n\u001b[0;32m   1885\u001b[0m     memory_map\u001b[38;5;241m=\u001b[39m\u001b[38;5;28mself\u001b[39m\u001b[38;5;241m.\u001b[39moptions\u001b[38;5;241m.\u001b[39mget(\u001b[38;5;124m\"\u001b[39m\u001b[38;5;124mmemory_map\u001b[39m\u001b[38;5;124m\"\u001b[39m, \u001b[38;5;28;01mFalse\u001b[39;00m),\n\u001b[0;32m   1886\u001b[0m     is_text\u001b[38;5;241m=\u001b[39mis_text,\n\u001b[0;32m   1887\u001b[0m     errors\u001b[38;5;241m=\u001b[39m\u001b[38;5;28mself\u001b[39m\u001b[38;5;241m.\u001b[39moptions\u001b[38;5;241m.\u001b[39mget(\u001b[38;5;124m\"\u001b[39m\u001b[38;5;124mencoding_errors\u001b[39m\u001b[38;5;124m\"\u001b[39m, \u001b[38;5;124m\"\u001b[39m\u001b[38;5;124mstrict\u001b[39m\u001b[38;5;124m\"\u001b[39m),\n\u001b[0;32m   1888\u001b[0m     storage_options\u001b[38;5;241m=\u001b[39m\u001b[38;5;28mself\u001b[39m\u001b[38;5;241m.\u001b[39moptions\u001b[38;5;241m.\u001b[39mget(\u001b[38;5;124m\"\u001b[39m\u001b[38;5;124mstorage_options\u001b[39m\u001b[38;5;124m\"\u001b[39m, \u001b[38;5;28;01mNone\u001b[39;00m),\n\u001b[0;32m   1889\u001b[0m )\n\u001b[0;32m   1890\u001b[0m \u001b[38;5;28;01massert\u001b[39;00m \u001b[38;5;28mself\u001b[39m\u001b[38;5;241m.\u001b[39mhandles \u001b[38;5;129;01mis\u001b[39;00m \u001b[38;5;129;01mnot\u001b[39;00m \u001b[38;5;28;01mNone\u001b[39;00m\n\u001b[0;32m   1891\u001b[0m f \u001b[38;5;241m=\u001b[39m \u001b[38;5;28mself\u001b[39m\u001b[38;5;241m.\u001b[39mhandles\u001b[38;5;241m.\u001b[39mhandle\n",
      "File \u001b[1;32m~\\Downloads\\anaconda\\envs\\myenv\\Lib\\site-packages\\pandas\\io\\common.py:873\u001b[0m, in \u001b[0;36mget_handle\u001b[1;34m(path_or_buf, mode, encoding, compression, memory_map, is_text, errors, storage_options)\u001b[0m\n\u001b[0;32m    868\u001b[0m \u001b[38;5;28;01melif\u001b[39;00m \u001b[38;5;28misinstance\u001b[39m(handle, \u001b[38;5;28mstr\u001b[39m):\n\u001b[0;32m    869\u001b[0m     \u001b[38;5;66;03m# Check whether the filename is to be opened in binary mode.\u001b[39;00m\n\u001b[0;32m    870\u001b[0m     \u001b[38;5;66;03m# Binary mode does not support 'encoding' and 'newline'.\u001b[39;00m\n\u001b[0;32m    871\u001b[0m     \u001b[38;5;28;01mif\u001b[39;00m ioargs\u001b[38;5;241m.\u001b[39mencoding \u001b[38;5;129;01mand\u001b[39;00m \u001b[38;5;124m\"\u001b[39m\u001b[38;5;124mb\u001b[39m\u001b[38;5;124m\"\u001b[39m \u001b[38;5;129;01mnot\u001b[39;00m \u001b[38;5;129;01min\u001b[39;00m ioargs\u001b[38;5;241m.\u001b[39mmode:\n\u001b[0;32m    872\u001b[0m         \u001b[38;5;66;03m# Encoding\u001b[39;00m\n\u001b[1;32m--> 873\u001b[0m         handle \u001b[38;5;241m=\u001b[39m \u001b[38;5;28mopen\u001b[39m(\n\u001b[0;32m    874\u001b[0m             handle,\n\u001b[0;32m    875\u001b[0m             ioargs\u001b[38;5;241m.\u001b[39mmode,\n\u001b[0;32m    876\u001b[0m             encoding\u001b[38;5;241m=\u001b[39mioargs\u001b[38;5;241m.\u001b[39mencoding,\n\u001b[0;32m    877\u001b[0m             errors\u001b[38;5;241m=\u001b[39merrors,\n\u001b[0;32m    878\u001b[0m             newline\u001b[38;5;241m=\u001b[39m\u001b[38;5;124m\"\u001b[39m\u001b[38;5;124m\"\u001b[39m,\n\u001b[0;32m    879\u001b[0m         )\n\u001b[0;32m    880\u001b[0m     \u001b[38;5;28;01melse\u001b[39;00m:\n\u001b[0;32m    881\u001b[0m         \u001b[38;5;66;03m# Binary mode\u001b[39;00m\n\u001b[0;32m    882\u001b[0m         handle \u001b[38;5;241m=\u001b[39m \u001b[38;5;28mopen\u001b[39m(handle, ioargs\u001b[38;5;241m.\u001b[39mmode)\n",
      "\u001b[1;31mFileNotFoundError\u001b[0m: [Errno 2] No such file or directory: 'DataSets/random_movies.csv'"
     ]
    }
   ],
   "source": [
    "movies_df = pd.read_csv(\"DataSets/random_movies.csv\")\n",
    "movies_df.set_index(\"Title\", inplace=True)\n",
    "movies_df.to_csv(\"DataSets\\mod_movies.csv\", index=False, sep=\"-\")\n",
    "temp = pd.read_csv(\"DataSets\\mod_movies.csv\", sep=\"-\")\n",
    " "
   ]
  },
  {
   "cell_type": "code",
   "execution_count": null,
   "id": "3ba5b635",
   "metadata": {
    "scrolled": true
   },
   "outputs": [],
   "source": [
    "# select column names\n",
    "\n",
    "df = pd.read_csv(\"DataSets/random_movies.csv\", header=1)  #sets the first row as  columns names\n",
    "df\n"
   ]
  },
  {
   "cell_type": "code",
   "execution_count": null,
   "id": "5b43385e",
   "metadata": {},
   "outputs": [],
   "source": [
    "# pass set the column names while loadinf the data\n",
    "df = pd.read_csv(\"DataSets/random_movies.csv\", names=[\"m\", \"n\", \"mm\"])  \n",
    "df"
   ]
  },
  {
   "cell_type": "code",
   "execution_count": null,
   "id": "ce34510c",
   "metadata": {},
   "outputs": [],
   "source": [
    "df = pd.read_csv(\"DataSets/random_movies.csv\", index_col=4)   #sets the fourth column as a index  \n",
    "df"
   ]
  },
  {
   "cell_type": "code",
   "execution_count": null,
   "id": "495b3694",
   "metadata": {
    "scrolled": true
   },
   "outputs": [],
   "source": [
    "df = pd.read_csv(\"DataSets/random_movies.csv\", dtype=\"str\")  \n",
    "type(df.loc[0][0])"
   ]
  },
  {
   "cell_type": "code",
   "execution_count": null,
   "id": "89485171",
   "metadata": {},
   "outputs": [],
   "source": [
    "df[\"Rating\"] = df.Rating.astype(float)\n",
    "df.Rating.dtype\n",
    "df.Year.dtype\n",
    "df.dtypes\n"
   ]
  },
  {
   "cell_type": "code",
   "execution_count": null,
   "id": "1c14c7a5",
   "metadata": {},
   "outputs": [],
   "source": [
    "df = pd.read_csv(\"DataSets/random_movies.csv\", skipfooter=10, engine=\"python\")  \n",
    "df"
   ]
  },
  {
   "cell_type": "code",
   "execution_count": null,
   "id": "9060aec9",
   "metadata": {},
   "outputs": [],
   "source": [
    "df = pd.read_csv(\"DataSets/textcsv.csv\", index_col=\"Name\")  \n",
    "df.loc[\"vinay\"]"
   ]
  },
  {
   "cell_type": "markdown",
   "id": "557dae97",
   "metadata": {
    "jp-MarkdownHeadingCollapsed": true
   },
   "source": [
    "# Loading excell files\n"
   ]
  },
  {
   "cell_type": "markdown",
   "id": "55e960c5",
   "metadata": {
    "jp-MarkdownHeadingCollapsed": true
   },
   "source": [
    "# Data Cleaning"
   ]
  },
  {
   "cell_type": "code",
   "execution_count": null,
   "id": "ba7f858a-6d25-4788-903e-a1b6ccf439bc",
   "metadata": {},
   "outputs": [],
   "source": []
  },
  {
   "cell_type": "code",
   "execution_count": null,
   "id": "d7fb7b1a-c6ec-41af-912e-a4e9f399a027",
   "metadata": {},
   "outputs": [],
   "source": [
    "db = sq.connect(\"example.db\")\n",
    "cursor = db.cursor()\n",
    "df = pd.read_csv(\"DataSets/BTC-USD.csv\")\n",
    "df.to_sql(name=\"BITCOIN\", con=db, index=False, if_exists=\"replace\")\n"
   ]
  },
  {
   "cell_type": "code",
   "execution_count": null,
   "id": "05808213-d2ef-4e05-a2be-e82a2ebe356d",
   "metadata": {},
   "outputs": [],
   "source": [
    "query = \"select * from BITCOIN\"\n",
    "cursor.execute"
   ]
  },
  {
   "cell_type": "code",
   "execution_count": null,
   "id": "a61186de",
   "metadata": {},
   "outputs": [],
   "source": [
    "# df[\"YearsCode\"].fillna(0)\n",
    "# df.replace(\"Less than 1 year\", 0, inplace=True)\n",
    "# df.replace(\"More than 50 years\", 51, inplace=True)\n",
    "# df[\"YearsCode\"] = df.YearsCode.astype(float)\n",
    "# df.YearsCode.mean().round() \n",
    "# df.YearsCode.count() # Counts the non none vlaue in the YearsCode column\n",
    "# df.count()  #Gives each column with No None values \n",
    "# (f\"Median : {df.YearsCode.median():10}\")  # Median :       11.0\n",
    "# df.YearsCode.mode()\n",
    "\n",
    "\n",
    "# fill missing values with mean\n",
    "\n",
    "temp = df.YearsCode\n",
    "temp.replace([\"Less than 1 year\"], 0)\n",
    "temp.replace([\"More than 50 years\", 51])\n",
    "mean_f = temp.mean()\n",
    "df.YearsCode.fillna(mean_f, inplace=True)\n",
    "df.YearsCode.isnull().sum()    #checks how many null vlaues are there in colum ans also valid for df\n",
    "df.YearsCode.mean()\n",
    "df.YearsCode.mode()\n",
    "df.YearsCode.median()\n",
    "\n",
    "\n"
   ]
  },
  {
   "cell_type": "markdown",
   "id": "5c74cd39",
   "metadata": {},
   "source": [
    "#### Checking for the duplicates "
   ]
  },
  {
   "cell_type": "code",
   "execution_count": null,
   "id": "d7457537",
   "metadata": {
    "scrolled": true
   },
   "outputs": [],
   "source": [
    "df.drop_duplicates()"
   ]
  },
  {
   "cell_type": "markdown",
   "id": "c3ca085a-c9fc-43b0-afb2-ca052b69a9a1",
   "metadata": {},
   "source": [
    "# Gropby"
   ]
  },
  {
   "cell_type": "code",
   "execution_count": 27,
   "id": "b054334a-8eb3-41c9-8db4-249916a288f5",
   "metadata": {
    "scrolled": true
   },
   "outputs": [],
   "source": [
    "df = pd.read_csv(\"DataSets/student_performance_data.csv\")\n",
    "gp = df.groupby(\"Gender\")\n",
    "\n"
   ]
  },
  {
   "cell_type": "code",
   "execution_count": 28,
   "id": "b97fc189-6da2-45f4-bb24-9752eb205095",
   "metadata": {
    "scrolled": true
   },
   "outputs": [
    {
     "data": {
      "text/html": [
       "<div>\n",
       "<style scoped>\n",
       "    .dataframe tbody tr th:only-of-type {\n",
       "        vertical-align: middle;\n",
       "    }\n",
       "\n",
       "    .dataframe tbody tr th {\n",
       "        vertical-align: top;\n",
       "    }\n",
       "\n",
       "    .dataframe thead th {\n",
       "        text-align: right;\n",
       "    }\n",
       "</style>\n",
       "<table border=\"1\" class=\"dataframe\">\n",
       "  <thead>\n",
       "    <tr style=\"text-align: right;\">\n",
       "      <th></th>\n",
       "      <th>StudentID</th>\n",
       "      <th>Gender</th>\n",
       "      <th>Age</th>\n",
       "      <th>StudyHoursPerWeek</th>\n",
       "      <th>AttendanceRate</th>\n",
       "      <th>GPA</th>\n",
       "      <th>Major</th>\n",
       "      <th>PartTimeJob</th>\n",
       "      <th>ExtraCurricularActivities</th>\n",
       "    </tr>\n",
       "  </thead>\n",
       "  <tbody>\n",
       "    <tr>\n",
       "      <th>0</th>\n",
       "      <td>1</td>\n",
       "      <td>Male</td>\n",
       "      <td>24</td>\n",
       "      <td>37</td>\n",
       "      <td>90.75</td>\n",
       "      <td>3.47</td>\n",
       "      <td>Arts</td>\n",
       "      <td>Yes</td>\n",
       "      <td>No</td>\n",
       "    </tr>\n",
       "    <tr>\n",
       "      <th>2</th>\n",
       "      <td>3</td>\n",
       "      <td>Male</td>\n",
       "      <td>22</td>\n",
       "      <td>10</td>\n",
       "      <td>53.36</td>\n",
       "      <td>2.38</td>\n",
       "      <td>Business</td>\n",
       "      <td>No</td>\n",
       "      <td>No</td>\n",
       "    </tr>\n",
       "    <tr>\n",
       "      <th>3</th>\n",
       "      <td>4</td>\n",
       "      <td>Male</td>\n",
       "      <td>24</td>\n",
       "      <td>10</td>\n",
       "      <td>70.26</td>\n",
       "      <td>3.46</td>\n",
       "      <td>Science</td>\n",
       "      <td>Yes</td>\n",
       "      <td>No</td>\n",
       "    </tr>\n",
       "    <tr>\n",
       "      <th>4</th>\n",
       "      <td>5</td>\n",
       "      <td>Male</td>\n",
       "      <td>18</td>\n",
       "      <td>19</td>\n",
       "      <td>74.87</td>\n",
       "      <td>2.31</td>\n",
       "      <td>Education</td>\n",
       "      <td>Yes</td>\n",
       "      <td>No</td>\n",
       "    </tr>\n",
       "    <tr>\n",
       "      <th>6</th>\n",
       "      <td>7</td>\n",
       "      <td>Male</td>\n",
       "      <td>19</td>\n",
       "      <td>21</td>\n",
       "      <td>55.33</td>\n",
       "      <td>3.93</td>\n",
       "      <td>Arts</td>\n",
       "      <td>No</td>\n",
       "      <td>No</td>\n",
       "    </tr>\n",
       "    <tr>\n",
       "      <th>...</th>\n",
       "      <td>...</td>\n",
       "      <td>...</td>\n",
       "      <td>...</td>\n",
       "      <td>...</td>\n",
       "      <td>...</td>\n",
       "      <td>...</td>\n",
       "      <td>...</td>\n",
       "      <td>...</td>\n",
       "      <td>...</td>\n",
       "    </tr>\n",
       "    <tr>\n",
       "      <th>492</th>\n",
       "      <td>493</td>\n",
       "      <td>Male</td>\n",
       "      <td>18</td>\n",
       "      <td>29</td>\n",
       "      <td>62.71</td>\n",
       "      <td>2.45</td>\n",
       "      <td>Education</td>\n",
       "      <td>Yes</td>\n",
       "      <td>No</td>\n",
       "    </tr>\n",
       "    <tr>\n",
       "      <th>494</th>\n",
       "      <td>495</td>\n",
       "      <td>Male</td>\n",
       "      <td>24</td>\n",
       "      <td>23</td>\n",
       "      <td>67.13</td>\n",
       "      <td>2.11</td>\n",
       "      <td>Business</td>\n",
       "      <td>No</td>\n",
       "      <td>Yes</td>\n",
       "    </tr>\n",
       "    <tr>\n",
       "      <th>495</th>\n",
       "      <td>496</td>\n",
       "      <td>Male</td>\n",
       "      <td>22</td>\n",
       "      <td>37</td>\n",
       "      <td>76.61</td>\n",
       "      <td>2.97</td>\n",
       "      <td>Science</td>\n",
       "      <td>No</td>\n",
       "      <td>No</td>\n",
       "    </tr>\n",
       "    <tr>\n",
       "      <th>496</th>\n",
       "      <td>497</td>\n",
       "      <td>Male</td>\n",
       "      <td>23</td>\n",
       "      <td>11</td>\n",
       "      <td>56.29</td>\n",
       "      <td>3.20</td>\n",
       "      <td>Science</td>\n",
       "      <td>No</td>\n",
       "      <td>No</td>\n",
       "    </tr>\n",
       "    <tr>\n",
       "      <th>498</th>\n",
       "      <td>499</td>\n",
       "      <td>Male</td>\n",
       "      <td>22</td>\n",
       "      <td>18</td>\n",
       "      <td>57.18</td>\n",
       "      <td>2.05</td>\n",
       "      <td>Business</td>\n",
       "      <td>No</td>\n",
       "      <td>Yes</td>\n",
       "    </tr>\n",
       "  </tbody>\n",
       "</table>\n",
       "<p>244 rows × 9 columns</p>\n",
       "</div>"
      ],
      "text/plain": [
       "     StudentID Gender  Age  StudyHoursPerWeek  AttendanceRate   GPA  \\\n",
       "0            1   Male   24                 37           90.75  3.47   \n",
       "2            3   Male   22                 10           53.36  2.38   \n",
       "3            4   Male   24                 10           70.26  3.46   \n",
       "4            5   Male   18                 19           74.87  2.31   \n",
       "6            7   Male   19                 21           55.33  3.93   \n",
       "..         ...    ...  ...                ...             ...   ...   \n",
       "492        493   Male   18                 29           62.71  2.45   \n",
       "494        495   Male   24                 23           67.13  2.11   \n",
       "495        496   Male   22                 37           76.61  2.97   \n",
       "496        497   Male   23                 11           56.29  3.20   \n",
       "498        499   Male   22                 18           57.18  2.05   \n",
       "\n",
       "         Major PartTimeJob ExtraCurricularActivities  \n",
       "0         Arts         Yes                        No  \n",
       "2     Business          No                        No  \n",
       "3      Science         Yes                        No  \n",
       "4    Education         Yes                        No  \n",
       "6         Arts          No                        No  \n",
       "..         ...         ...                       ...  \n",
       "492  Education         Yes                        No  \n",
       "494   Business          No                       Yes  \n",
       "495    Science          No                        No  \n",
       "496    Science          No                        No  \n",
       "498   Business          No                       Yes  \n",
       "\n",
       "[244 rows x 9 columns]"
      ]
     },
     "execution_count": 28,
     "metadata": {},
     "output_type": "execute_result"
    }
   ],
   "source": [
    "gp.get_group(\"Male\")"
   ]
  },
  {
   "cell_type": "code",
   "execution_count": 29,
   "id": "92dce471-9374-47d4-9519-9f00233c80fb",
   "metadata": {
    "scrolled": true
   },
   "outputs": [
    {
     "data": {
      "text/html": [
       "<div>\n",
       "<style scoped>\n",
       "    .dataframe tbody tr th:only-of-type {\n",
       "        vertical-align: middle;\n",
       "    }\n",
       "\n",
       "    .dataframe tbody tr th {\n",
       "        vertical-align: top;\n",
       "    }\n",
       "\n",
       "    .dataframe thead th {\n",
       "        text-align: right;\n",
       "    }\n",
       "</style>\n",
       "<table border=\"1\" class=\"dataframe\">\n",
       "  <thead>\n",
       "    <tr style=\"text-align: right;\">\n",
       "      <th></th>\n",
       "      <th>StudentID</th>\n",
       "      <th>Gender</th>\n",
       "      <th>Age</th>\n",
       "      <th>StudyHoursPerWeek</th>\n",
       "      <th>AttendanceRate</th>\n",
       "      <th>GPA</th>\n",
       "      <th>Major</th>\n",
       "      <th>PartTimeJob</th>\n",
       "      <th>ExtraCurricularActivities</th>\n",
       "    </tr>\n",
       "  </thead>\n",
       "  <tbody>\n",
       "    <tr>\n",
       "      <th>1</th>\n",
       "      <td>2</td>\n",
       "      <td>Female</td>\n",
       "      <td>22</td>\n",
       "      <td>37</td>\n",
       "      <td>74.90</td>\n",
       "      <td>2.32</td>\n",
       "      <td>Education</td>\n",
       "      <td>No</td>\n",
       "      <td>No</td>\n",
       "    </tr>\n",
       "    <tr>\n",
       "      <th>5</th>\n",
       "      <td>6</td>\n",
       "      <td>Female</td>\n",
       "      <td>20</td>\n",
       "      <td>17</td>\n",
       "      <td>86.01</td>\n",
       "      <td>2.47</td>\n",
       "      <td>Business</td>\n",
       "      <td>Yes</td>\n",
       "      <td>No</td>\n",
       "    </tr>\n",
       "    <tr>\n",
       "      <th>9</th>\n",
       "      <td>10</td>\n",
       "      <td>Female</td>\n",
       "      <td>24</td>\n",
       "      <td>1</td>\n",
       "      <td>63.32</td>\n",
       "      <td>3.96</td>\n",
       "      <td>Engineering</td>\n",
       "      <td>Yes</td>\n",
       "      <td>Yes</td>\n",
       "    </tr>\n",
       "    <tr>\n",
       "      <th>14</th>\n",
       "      <td>15</td>\n",
       "      <td>Female</td>\n",
       "      <td>19</td>\n",
       "      <td>34</td>\n",
       "      <td>78.66</td>\n",
       "      <td>3.73</td>\n",
       "      <td>Arts</td>\n",
       "      <td>Yes</td>\n",
       "      <td>Yes</td>\n",
       "    </tr>\n",
       "    <tr>\n",
       "      <th>16</th>\n",
       "      <td>17</td>\n",
       "      <td>Female</td>\n",
       "      <td>23</td>\n",
       "      <td>31</td>\n",
       "      <td>70.22</td>\n",
       "      <td>2.23</td>\n",
       "      <td>Arts</td>\n",
       "      <td>Yes</td>\n",
       "      <td>Yes</td>\n",
       "    </tr>\n",
       "    <tr>\n",
       "      <th>...</th>\n",
       "      <td>...</td>\n",
       "      <td>...</td>\n",
       "      <td>...</td>\n",
       "      <td>...</td>\n",
       "      <td>...</td>\n",
       "      <td>...</td>\n",
       "      <td>...</td>\n",
       "      <td>...</td>\n",
       "      <td>...</td>\n",
       "    </tr>\n",
       "    <tr>\n",
       "      <th>487</th>\n",
       "      <td>488</td>\n",
       "      <td>Female</td>\n",
       "      <td>18</td>\n",
       "      <td>39</td>\n",
       "      <td>84.30</td>\n",
       "      <td>2.80</td>\n",
       "      <td>Business</td>\n",
       "      <td>Yes</td>\n",
       "      <td>Yes</td>\n",
       "    </tr>\n",
       "    <tr>\n",
       "      <th>490</th>\n",
       "      <td>491</td>\n",
       "      <td>Female</td>\n",
       "      <td>23</td>\n",
       "      <td>4</td>\n",
       "      <td>98.65</td>\n",
       "      <td>3.45</td>\n",
       "      <td>Engineering</td>\n",
       "      <td>Yes</td>\n",
       "      <td>Yes</td>\n",
       "    </tr>\n",
       "    <tr>\n",
       "      <th>493</th>\n",
       "      <td>494</td>\n",
       "      <td>Female</td>\n",
       "      <td>22</td>\n",
       "      <td>34</td>\n",
       "      <td>76.09</td>\n",
       "      <td>3.41</td>\n",
       "      <td>Engineering</td>\n",
       "      <td>No</td>\n",
       "      <td>No</td>\n",
       "    </tr>\n",
       "    <tr>\n",
       "      <th>497</th>\n",
       "      <td>498</td>\n",
       "      <td>Female</td>\n",
       "      <td>20</td>\n",
       "      <td>6</td>\n",
       "      <td>56.64</td>\n",
       "      <td>3.20</td>\n",
       "      <td>Science</td>\n",
       "      <td>No</td>\n",
       "      <td>Yes</td>\n",
       "    </tr>\n",
       "    <tr>\n",
       "      <th>499</th>\n",
       "      <td>500</td>\n",
       "      <td>Female</td>\n",
       "      <td>24</td>\n",
       "      <td>21</td>\n",
       "      <td>96.99</td>\n",
       "      <td>2.64</td>\n",
       "      <td>Engineering</td>\n",
       "      <td>No</td>\n",
       "      <td>No</td>\n",
       "    </tr>\n",
       "  </tbody>\n",
       "</table>\n",
       "<p>256 rows × 9 columns</p>\n",
       "</div>"
      ],
      "text/plain": [
       "     StudentID  Gender  Age  StudyHoursPerWeek  AttendanceRate   GPA  \\\n",
       "1            2  Female   22                 37           74.90  2.32   \n",
       "5            6  Female   20                 17           86.01  2.47   \n",
       "9           10  Female   24                  1           63.32  3.96   \n",
       "14          15  Female   19                 34           78.66  3.73   \n",
       "16          17  Female   23                 31           70.22  2.23   \n",
       "..         ...     ...  ...                ...             ...   ...   \n",
       "487        488  Female   18                 39           84.30  2.80   \n",
       "490        491  Female   23                  4           98.65  3.45   \n",
       "493        494  Female   22                 34           76.09  3.41   \n",
       "497        498  Female   20                  6           56.64  3.20   \n",
       "499        500  Female   24                 21           96.99  2.64   \n",
       "\n",
       "           Major PartTimeJob ExtraCurricularActivities  \n",
       "1      Education          No                        No  \n",
       "5       Business         Yes                        No  \n",
       "9    Engineering         Yes                       Yes  \n",
       "14          Arts         Yes                       Yes  \n",
       "16          Arts         Yes                       Yes  \n",
       "..           ...         ...                       ...  \n",
       "487     Business         Yes                       Yes  \n",
       "490  Engineering         Yes                       Yes  \n",
       "493  Engineering          No                        No  \n",
       "497      Science          No                       Yes  \n",
       "499  Engineering          No                        No  \n",
       "\n",
       "[256 rows x 9 columns]"
      ]
     },
     "execution_count": 29,
     "metadata": {},
     "output_type": "execute_result"
    }
   ],
   "source": [
    "gp.get_group(\"Female\")"
   ]
  },
  {
   "cell_type": "code",
   "execution_count": 30,
   "id": "ef5fa59f-5893-4c74-b95f-e70a315ae3be",
   "metadata": {
    "scrolled": true
   },
   "outputs": [
    {
     "data": {
      "text/plain": [
       "<Axes: >"
      ]
     },
     "execution_count": 30,
     "metadata": {},
     "output_type": "execute_result"
    },
    {
     "data": {
      "image/png": "[encoded data removed]",
      "text/plain": [
       "<Figure size 640x480 with 1 Axes>"
      ]
     },
     "metadata": {},
     "output_type": "display_data"
    }
   ],
   "source": [
    "female = gp.get_group(\"Female\")\n",
    "female.describe()\n",
    "female.Age.plot()"
   ]
  },
  {
   "cell_type": "code",
   "execution_count": null,
   "id": "39fe1116-d458-4114-bd8e-74e6abc1f9d9",
   "metadata": {},
   "outputs": [],
   "source": []
  }
 ],
 "metadata": {
  "kernelspec": {
   "display_name": "Python (myenv)",
   "language": "python",
   "name": "myenv"
  },
  "language_info": {
   "codemirror_mode": {
    "name": "ipython",
    "version": 3
   },
   "file_extension": ".py",
   "mimetype": "text/x-python",
   "name": "python",
   "nbconvert_exporter": "python",
   "pygments_lexer": "ipython3",
   "version": "3.12.4"
  }
 },
 "nbformat": 4,
 "nbformat_minor": 5
}
